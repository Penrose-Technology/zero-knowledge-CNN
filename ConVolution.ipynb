{
 "cells": [
  {
   "cell_type": "code",
   "execution_count": 2,
   "id": "fc4c8217-430b-47f0-a2ef-3f273ee35c69",
   "metadata": {},
   "outputs": [],
   "source": [
    "import numpy as np\n",
    "import parameters as p\n",
    "from sympy import ntt, intt"
   ]
  },
  {
   "cell_type": "code",
   "execution_count": 3,
   "id": "20b02a2c-cf6e-45dc-84cd-a6a6afc52bed",
   "metadata": {},
   "outputs": [],
   "source": [
    "class ConVolution:\n",
    "    def __init__(self):\n",
    "        pass\n",
    "\n",
    "    def con2d(self, a, w):\n",
    "        A = np.mat(a)\n",
    "        W = np.mat(w)\n",
    "        U = np.mat(np.zeros((p.con_size-p.kernel_size+1, p.con_size-p.kernel_size+1), dtype='int32'))\n",
    "        rows, cols = A.shape\n",
    "        for i in range(rows-1):\n",
    "            for j in range(cols-1):\n",
    "                U[i,j] = np.multiply(A[i:(i+p.kernel_size),j:(j+p.kernel_size)], W).sum()\n",
    "                #print(np.multiply(A[i:(i+kernel_size),j:(j+kernel_size)], W))\n",
    "        return U\n",
    "\n",
    "    def trim(self, raw):\n",
    "        raw = raw[(p.con_size*(p.kernel_size-1)+p.kernel_size-2):(p.con_size**2)][::-1]\n",
    "        result = raw.reshape((p.out_size,p.con_size))[:,0:p.out_size]\n",
    "        return result\n",
    "\n",
    "    def shape(self, a, w):\n",
    "        w_bar = np.zeros_like(a)\n",
    "        a_bar = a.flatten()[::-1]\n",
    "        w_bar[0:p.kernel_size,0:p.kernel_size] = w\n",
    "        w_bar = w_bar.flatten()\n",
    "        return a_bar, w_bar\n",
    "\n",
    "    def con1d(self, a, w):\n",
    "        a_bar, w_bar = self.shape(a, w)\n",
    "        u_bar = np.convolve(a_bar, w_bar)\n",
    "        return self.trim(u_bar), a_bar, w_bar\n",
    "\n",
    "    def ntt_intt(self, a_bar, w_bar):\n",
    "        #np.array(ntt(a_bar, prime=self.prime))\n",
    "        #np.array(ntt(w_bar, prime=self.prime))\n",
    "        prod = np.array(ntt(a_bar, prime=p.prime))*np.array(ntt(w_bar, prime=p.prime))\n",
    "        u_bar = np.array(intt(prod, prime=p.prime))\n",
    "        return self.trim(u_bar)\n",
    "\n",
    "      "
   ]
  },
  {
   "cell_type": "code",
   "execution_count": 4,
   "id": "6ca72b56",
   "metadata": {},
   "outputs": [
    {
     "name": "stdout",
     "output_type": "stream",
     "text": [
      "Original 2D-Convolution Output: \n",
      "[[ 39 136 142 140 230 155 104 185 213]\n",
      " [140 111  71  99 180 103 125 168 112]\n",
      " [171 126 105 172 178 105 155 201 211]\n",
      " [178 203 160 205 197 173 127 175 162]\n",
      " [127 168 169 119 142 138  65 157 132]\n",
      " [193 195 161  90  93  89 126 162 173]\n",
      " [183 133 175 104  90 142 110  95 197]\n",
      " [137 187 164  76 113 188 149 150 154]\n",
      " [214 176 165 170 141 118 151 219 170]]\n",
      "1D-Convolution Output: \n",
      "[[ 39 136 142 140 230 155 104 185 213]\n",
      " [140 111  71  99 180 103 125 168 112]\n",
      " [171 126 105 172 178 105 155 201 211]\n",
      " [178 203 160 205 197 173 127 175 162]\n",
      " [127 168 169 119 142 138  65 157 132]\n",
      " [193 195 161  90  93  89 126 162 173]\n",
      " [183 133 175 104  90 142 110  95 197]\n",
      " [137 187 164  76 113 188 149 150 154]\n",
      " [214 176 165 170 141 118 151 219 170]]\n",
      "NTT/INTT Output: \n",
      "[[ 39 136 142 140 230 155 104 185 213]\n",
      " [140 111  71  99 180 103 125 168 112]\n",
      " [171 126 105 172 178 105 155 201 211]\n",
      " [178 203 160 205 197 173 127 175 162]\n",
      " [127 168 169 119 142 138  65 157 132]\n",
      " [193 195 161  90  93  89 126 162 173]\n",
      " [183 133 175 104  90 142 110  95 197]\n",
      " [137 187 164  76 113 188 149 150 154]\n",
      " [214 176 165 170 141 118 151 219 170]]\n"
     ]
    }
   ],
   "source": [
    "a = np.random.randint(30, size=(p.con_size, p.con_size), dtype='int32')\n",
    "w = np.array([[1,2], [3,4]], dtype='int32')\n",
    "\n",
    "con = ConVolution()\n",
    "u_bar, a_bar, w_bar = con.con1d(a, w)\n",
    "print(f\"Original 2D-Convolution Output: \\n{con.con2d(a, w)}\")\n",
    "print(f\"1D-Convolution Output: \\n{u_bar}\")\n",
    "print(f\"NTT/INTT Output: \\n{con.ntt_intt(a_bar, w_bar)}\")"
   ]
  },
  {
   "cell_type": "code",
   "execution_count": 5,
   "id": "d283ea0a",
   "metadata": {},
   "outputs": [
    {
     "ename": "SyntaxError",
     "evalue": "unterminated string literal (detected at line 21) (453292700.py, line 21)",
     "output_type": "error",
     "traceback": [
      "\u001b[0;36m  Cell \u001b[0;32mIn[5], line 21\u001b[0;36m\u001b[0m\n\u001b[0;31m    \"\"\"\"\u001b[0m\n\u001b[0m       ^\u001b[0m\n\u001b[0;31mSyntaxError\u001b[0m\u001b[0;31m:\u001b[0m unterminated string literal (detected at line 21)\n"
     ]
    }
   ],
   "source": [
    "\"\"\"\"\n",
    "def main():\n",
    "    print(a)\n",
    "    print(w)\n",
    "    a_bar = a.flatten()[::-1] \n",
    "    print(a_bar)\n",
    "    w_bar = np.zeros((p.con_size, p.con_size), dtype='int32')\n",
    "    w_bar[0:p.kernel_size,0:p.kernel_size] = w\n",
    "    print(w_bar)\n",
    "    w_bar = w_bar.flatten()\n",
    "    print(w_bar)\n",
    "    u_bar = np.convolve(a_bar, w_bar)\n",
    "    print(u_bar)\n",
    "    c=u_bar[(p.con_size*(p.kernel_size-1)+p.kernel_size-2):(p.con_size**2)][::-1]\n",
    "    print(c)\n",
    "    result = c.reshape((p.out_size,p.con_size))[:,0:p.out_size]\n",
    "    print(result)\n",
    "\n",
    "if __name__ == \"__main__\":\n",
    "    main()\n",
    "\"\"\"\""
   ]
  }
 ],
 "metadata": {
  "kernelspec": {
   "display_name": "Python 3 (ipykernel)",
   "language": "python",
   "name": "python3"
  },
  "language_info": {
   "codemirror_mode": {
    "name": "ipython",
    "version": 3
   },
   "file_extension": ".py",
   "mimetype": "text/x-python",
   "name": "python",
   "nbconvert_exporter": "python",
   "pygments_lexer": "ipython3",
   "version": "3.11.7"
  }
 },
 "nbformat": 4,
 "nbformat_minor": 5
}
